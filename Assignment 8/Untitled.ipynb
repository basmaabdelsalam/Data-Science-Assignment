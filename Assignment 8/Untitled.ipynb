{
 "cells": [
  {
   "cell_type": "markdown",
   "metadata": {},
   "source": [
    "## 1) Python Program to Check if a Number is Odd or Even"
   ]
  },
  {
   "cell_type": "code",
   "execution_count": 11,
   "metadata": {},
   "outputs": [
    {
     "name": "stdout",
     "output_type": "stream",
     "text": [
      "Enter the number:15\n",
      "15 is odd\n"
     ]
    }
   ],
   "source": [
    "x = int(input('Enter the number:'))\n",
    "if (x % 2)==0:\n",
    "    print( x, 'is even')\n",
    "else:\n",
    "    print ( x, 'is odd')"
   ]
  },
  {
   "cell_type": "markdown",
   "metadata": {},
   "source": [
    "## 2) Python Program to Find the Largest Among Three Numbers"
   ]
  },
  {
   "cell_type": "code",
   "execution_count": 17,
   "metadata": {},
   "outputs": [
    {
     "name": "stdout",
     "output_type": "stream",
     "text": [
      "Enter 1st number:13\n",
      "Enter 2nd number:23\n",
      "Enter 3rd number:100\n",
      "The largest number is 100\n"
     ]
    }
   ],
   "source": [
    "x = int(input('Enter 1st number:'))\n",
    "y = int(input('Enter 2nd number:'))\n",
    "z = int(input('Enter 3rd number:'))\n",
    "if (x >= y )and  (x >= z):\n",
    "    largest = x\n",
    "elif (y >= x ) and ( y >= z):\n",
    "    largest = y\n",
    "else:\n",
    "    largest = z\n",
    "\n",
    "print('The largest number is',largest)"
   ]
  },
  {
   "cell_type": "markdown",
   "metadata": {},
   "source": [
    "## 3) Python Program to Make a Simple Calculator"
   ]
  },
  {
   "cell_type": "code",
   "execution_count": 32,
   "metadata": {},
   "outputs": [
    {
     "name": "stdout",
     "output_type": "stream",
     "text": [
      "Enter 1st number:90\n",
      "Enter 2nd number:10\n",
      "Enter the operation:div\n",
      "The Result is 9.0\n"
     ]
    }
   ],
   "source": [
    "x = int(input('Enter 1st number:'))\n",
    "y = int(input('Enter 2nd number:'))\n",
    "op= str(input('Enter the operation:'))\n",
    "\n",
    "if op == 'add' :\n",
    "    print('The Result is',x+y)\n",
    "elif (op == 'sub'):\n",
    "    print('The Result is',x-y)\n",
    "elif (op == 'mul'):\n",
    "    print('The Result is',x*y)\n",
    "else:\n",
    "    if (x==0) or (y==0):\n",
    "        print ('ERROR')\n",
    "    else:\n",
    "        print('The Result is',x/y)"
   ]
  },
  {
   "cell_type": "markdown",
   "metadata": {},
   "source": [
    "## 4) Python Program to Find the Factors of a Number"
   ]
  },
  {
   "cell_type": "code",
   "execution_count": 38,
   "metadata": {},
   "outputs": [
    {
     "name": "stdout",
     "output_type": "stream",
     "text": [
      "Enter the Number:30\n",
      "The factors of 30 are:\n",
      "1\n",
      "2\n",
      "3\n",
      "5\n",
      "6\n",
      "10\n",
      "15\n",
      "30\n"
     ]
    }
   ],
   "source": [
    "def factors(x):\n",
    "   print(\"The factors of\",x,\"are:\")\n",
    "   for i in range(1, x + 1):\n",
    "       if x % i == 0:\n",
    "           print(i)\n",
    "\n",
    "num = int(input('Enter the Number:'))\n",
    "factors(num)"
   ]
  },
  {
   "cell_type": "markdown",
   "metadata": {},
   "source": [
    "## 5) Python Program to Display the multiplication Table"
   ]
  },
  {
   "cell_type": "code",
   "execution_count": 41,
   "metadata": {},
   "outputs": [
    {
     "name": "stdout",
     "output_type": "stream",
     "text": [
      "Enter the Number:10\n",
      "10 x 1 = 10\n",
      "10 x 2 = 20\n",
      "10 x 3 = 30\n",
      "10 x 4 = 40\n",
      "10 x 5 = 50\n",
      "10 x 6 = 60\n",
      "10 x 7 = 70\n",
      "10 x 8 = 80\n",
      "10 x 9 = 90\n",
      "10 x 10 = 100\n"
     ]
    }
   ],
   "source": [
    "num = int(input('Enter the Number:'))\n",
    "for i in range(1, 11):\n",
    "   print(num, 'x', i, '=', num*i)"
   ]
  },
  {
   "cell_type": "code",
   "execution_count": null,
   "metadata": {},
   "outputs": [],
   "source": []
  }
 ],
 "metadata": {
  "kernelspec": {
   "display_name": "Python 3",
   "language": "python",
   "name": "python3"
  },
  "language_info": {
   "codemirror_mode": {
    "name": "ipython",
    "version": 3
   },
   "file_extension": ".py",
   "mimetype": "text/x-python",
   "name": "python",
   "nbconvert_exporter": "python",
   "pygments_lexer": "ipython3",
   "version": "3.7.6"
  }
 },
 "nbformat": 4,
 "nbformat_minor": 4
}
