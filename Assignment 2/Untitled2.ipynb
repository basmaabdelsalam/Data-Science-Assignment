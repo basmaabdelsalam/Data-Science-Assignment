{
 "cells": [
  {
   "cell_type": "markdown",
   "metadata": {},
   "source": [
    "# (1)"
   ]
  },
  {
   "cell_type": "code",
   "execution_count": 67,
   "metadata": {},
   "outputs": [],
   "source": [
    "file = open('test.txt','w+')\n",
    "file.write('\\nHello world\\n' *5)\n",
    "file.close()"
   ]
  },
  {
   "cell_type": "markdown",
   "metadata": {},
   "source": [
    "# (2)"
   ]
  },
  {
   "cell_type": "code",
   "execution_count": 68,
   "metadata": {},
   "outputs": [
    {
     "data": {
      "text/plain": [
       "['\\n',\n",
       " 'Hello world\\n',\n",
       " '\\n',\n",
       " 'Hello world\\n',\n",
       " '\\n',\n",
       " 'Hello world\\n',\n",
       " '\\n',\n",
       " 'Hello world\\n',\n",
       " '\\n',\n",
       " 'Hello world\\n']"
      ]
     },
     "execution_count": 68,
     "metadata": {},
     "output_type": "execute_result"
    }
   ],
   "source": [
    "file = open('test.txt','r')\n",
    "file.readlines()"
   ]
  },
  {
   "cell_type": "code",
   "execution_count": 69,
   "metadata": {},
   "outputs": [
    {
     "name": "stdout",
     "output_type": "stream",
     "text": [
      "\n",
      "\n",
      "HELLO WORLD\n",
      "\n",
      "\n",
      "\n",
      "HELLO WORLD\n",
      "\n",
      "\n",
      "\n",
      "HELLO WORLD\n",
      "\n",
      "\n",
      "\n",
      "HELLO WORLD\n",
      "\n",
      "\n",
      "\n",
      "HELLO WORLD\n",
      "\n"
     ]
    }
   ],
   "source": [
    "for line in open('test.txt'):\n",
    "    print (line.upper())\n"
   ]
  },
  {
   "cell_type": "markdown",
   "metadata": {},
   "source": [
    "# (3)"
   ]
  },
  {
   "cell_type": "code",
   "execution_count": 70,
   "metadata": {},
   "outputs": [],
   "source": [
    "file = open('test.txt','r')\n",
    "file = file.readlines()"
   ]
  },
  {
   "cell_type": "code",
   "execution_count": 71,
   "metadata": {},
   "outputs": [
    {
     "data": {
      "text/plain": [
       "['\\n',\n",
       " 'Hello world\\n',\n",
       " '\\n',\n",
       " 'Hello world\\n',\n",
       " '\\n',\n",
       " 'Hello world\\n',\n",
       " '\\n',\n",
       " 'Hello world\\n',\n",
       " '\\n',\n",
       " 'Hello world\\n']"
      ]
     },
     "execution_count": 71,
     "metadata": {},
     "output_type": "execute_result"
    }
   ],
   "source": [
    "file"
   ]
  },
  {
   "cell_type": "code",
   "execution_count": 72,
   "metadata": {},
   "outputs": [
    {
     "data": {
      "text/plain": [
       "'HELLO WORLD\\n'"
      ]
     },
     "execution_count": 72,
     "metadata": {},
     "output_type": "execute_result"
    }
   ],
   "source": [
    "file[5].upper()"
   ]
  },
  {
   "cell_type": "code",
   "execution_count": 73,
   "metadata": {},
   "outputs": [],
   "source": [
    "file[5]=file[5].upper()"
   ]
  },
  {
   "cell_type": "code",
   "execution_count": 74,
   "metadata": {},
   "outputs": [
    {
     "data": {
      "text/plain": [
       "['\\n',\n",
       " 'Hello world\\n',\n",
       " '\\n',\n",
       " 'Hello world\\n',\n",
       " '\\n',\n",
       " 'HELLO WORLD\\n',\n",
       " '\\n',\n",
       " 'Hello world\\n',\n",
       " '\\n',\n",
       " 'Hello world\\n']"
      ]
     },
     "execution_count": 74,
     "metadata": {},
     "output_type": "execute_result"
    }
   ],
   "source": [
    "file"
   ]
  },
  {
   "cell_type": "markdown",
   "metadata": {},
   "source": [
    "# (4)"
   ]
  },
  {
   "cell_type": "code",
   "execution_count": 75,
   "metadata": {},
   "outputs": [
    {
     "name": "stdout",
     "output_type": "stream",
     "text": [
      "['\\n', 'Hello world\\n', '\\n', 'Hello world\\n', '\\n', 'Hello world\\n', '\\n', 'Hello world\\n', '\\n', 'Hello world\\n']\n",
      "\n",
      "[]\n"
     ]
    }
   ],
   "source": [
    "with open('test.txt', 'a+') as file:\n",
    "    file.seek(0)\n",
    "    print(file.readlines())\n",
    "    print(file.read())\n",
    "    file.write('\\nI Love Python\\n')\n",
    "    print(file.readlines())"
   ]
  },
  {
   "cell_type": "code",
   "execution_count": null,
   "metadata": {},
   "outputs": [],
   "source": []
  },
  {
   "cell_type": "code",
   "execution_count": null,
   "metadata": {},
   "outputs": [],
   "source": []
  }
 ],
 "metadata": {
  "kernelspec": {
   "display_name": "Python 3",
   "language": "python",
   "name": "python3"
  },
  "language_info": {
   "codemirror_mode": {
    "name": "ipython",
    "version": 3
   },
   "file_extension": ".py",
   "mimetype": "text/x-python",
   "name": "python",
   "nbconvert_exporter": "python",
   "pygments_lexer": "ipython3",
   "version": "3.7.6"
  }
 },
 "nbformat": 4,
 "nbformat_minor": 4
}
