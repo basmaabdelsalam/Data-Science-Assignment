{
 "cells": [
  {
   "cell_type": "code",
   "execution_count": 3,
   "metadata": {},
   "outputs": [
    {
     "name": "stdout",
     "output_type": "stream",
     "text": [
      "Enter Radius: 1\n",
      "C = 6.28\n"
     ]
    }
   ],
   "source": [
    "#The circumference of the circle\n",
    "radius = float(input (\"Enter Radius: \"))\n",
    "print(\"C =\",2*3.14*radius)"
   ]
  },
  {
   "cell_type": "code",
   "execution_count": 2,
   "metadata": {},
   "outputs": [
    {
     "name": "stdout",
     "output_type": "stream",
     "text": [
      "Enter the width: 3\n",
      "Enter the length: 2\n",
      "10.0\n"
     ]
    }
   ],
   "source": [
    "#The circumference of the rectangular\n",
    "width = float(input('Enter the width: '))\n",
    "length = float(input('Enter the length: '))\n",
    "print(2*( length + width ))"
   ]
  },
  {
   "cell_type": "code",
   "execution_count": null,
   "metadata": {},
   "outputs": [],
   "source": []
  }
 ],
 "metadata": {
  "kernelspec": {
   "display_name": "Python 3",
   "language": "python",
   "name": "python3"
  },
  "language_info": {
   "codemirror_mode": {
    "name": "ipython",
    "version": 3
   },
   "file_extension": ".py",
   "mimetype": "text/x-python",
   "name": "python",
   "nbconvert_exporter": "python",
   "pygments_lexer": "ipython3",
   "version": "3.7.6"
  }
 },
 "nbformat": 4,
 "nbformat_minor": 4
}
