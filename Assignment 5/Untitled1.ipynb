{
 "cells": [
  {
   "cell_type": "markdown",
   "metadata": {},
   "source": [
    "## player to pc (not intelligent)"
   ]
  },
  {
   "cell_type": "code",
   "execution_count": null,
   "metadata": {},
   "outputs": [
    {
     "name": "stdout",
     "output_type": "stream",
     "text": [
      "0 | 1 | 2\n",
      "----------\n",
      "3 | 4 | 5\n",
      "----------\n",
      "6 | 7 | 8\n"
     ]
    }
   ],
   "source": [
    "import random\n",
    "import numpy as np\n",
    "\n",
    "\n",
    "position = list(range(0, 9))\n",
    "\n",
    "\n",
    "def Show():\n",
    "    \n",
    "    print(position[0], '|', position[1], '|', position[2])\n",
    "    print('----------')\n",
    "    print(position[3], '|', position[4], '|', position[5])\n",
    "    print('----------')\n",
    "    print(position[6], '|', position[7], '|', position[8])\n",
    "\n",
    "def check(char, pos1, pos2, pos3):\n",
    "    if position[pos1] == char and position[pos2] == char and position[pos3] == char:\n",
    "        return 1\n",
    "    \n",
    "def Final_check(char):\n",
    "    if check(char, 0, 1, 2):\n",
    "        return 1\n",
    "    elif check(char, 3, 4, 5):\n",
    "        return 1\n",
    "    elif check(char, 6, 7, 8):\n",
    "        return 1\n",
    "    elif check(char, 0, 3, 6):\n",
    "        return 1\n",
    "    elif check(char, 1, 4, 7):\n",
    "        return 1\n",
    "    elif check(char, 2, 5, 8):\n",
    "        return 1\n",
    "    elif check(char, 0, 4, 8):\n",
    "        return 1\n",
    "    elif check(char, 2, 4, 6):\n",
    "        return 1\n",
    "    \n",
    "def main_program():\n",
    "    while 1:\n",
    "        \n",
    "        \n",
    "        value = int(input(\"Select any position:  \")) \n",
    "     \n",
    "\n",
    "        if position[value] != 'X' and position[value] != 'O':\n",
    "            position[value] = 'X'\n",
    "\n",
    "            if Final_check('X') == 1:\n",
    "                print(\" Congrats  You  Win !!\")\n",
    "                break\n",
    "            \n",
    "\n",
    "            flag = 1\n",
    "\n",
    "            while flag:\n",
    "                random.seed()\n",
    "                system = random.randint(0,8)\n",
    "\n",
    "                if position[system] != 'X' and position[system] != 'O':\n",
    "                    position[system] = 'O'\n",
    "\n",
    "                    flag = 0\n",
    "\n",
    "            if Final_check('O') == 1:\n",
    "                print(\" You  Lose!! \")\n",
    "                break\n",
    "\n",
    "                \n",
    "        else:\n",
    "            print('This position is already taken')\n",
    "\n",
    "        Show()\n",
    "\n",
    "\n",
    "if __name__ == '__main__':\n",
    "\n",
    "    Show()\n",
    "    main_program()"
   ]
  },
  {
   "cell_type": "code",
   "execution_count": null,
   "metadata": {},
   "outputs": [],
   "source": []
  }
 ],
 "metadata": {
  "kernelspec": {
   "display_name": "Python 3",
   "language": "python",
   "name": "python3"
  },
  "language_info": {
   "codemirror_mode": {
    "name": "ipython",
    "version": 3
   },
   "file_extension": ".py",
   "mimetype": "text/x-python",
   "name": "python",
   "nbconvert_exporter": "python",
   "pygments_lexer": "ipython3",
   "version": "3.7.6"
  }
 },
 "nbformat": 4,
 "nbformat_minor": 4
}
