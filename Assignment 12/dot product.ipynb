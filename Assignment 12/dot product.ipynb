{
 "cells": [
  {
   "cell_type": "code",
   "execution_count": 1,
   "metadata": {},
   "outputs": [],
   "source": [
    "import numpy as np"
   ]
  },
  {
   "cell_type": "code",
   "execution_count": 7,
   "metadata": {},
   "outputs": [
    {
     "name": "stdout",
     "output_type": "stream",
     "text": [
      "Enter first number 6\n",
      "Enter second number 3\n",
      "18\n"
     ]
    }
   ],
   "source": [
    "a = int(input('Enter first number '))\n",
    "b = int(input('Enter second number '))\n",
    "print(np.dot(a, b))"
   ]
  },
  {
   "cell_type": "code",
   "execution_count": 8,
   "metadata": {},
   "outputs": [
    {
     "name": "stdout",
     "output_type": "stream",
     "text": [
      "(36, 36.9)\n"
     ]
    }
   ],
   "source": [
    "def angle_dot(a, b):\n",
    "    dot_product = np.dot(a, b)\n",
    "    prod_of_norms = np.linalg.norm(a) * np.linalg.norm(b)\n",
    "    angle = round(np.degrees(np.arccos(dot_product / prod_of_norms)), 1)\n",
    "    return round(dot_product, 1), angle\n",
    "print(angle_dot(np.array([a, b]), np.array([b, a])))"
   ]
  },
  {
   "cell_type": "code",
   "execution_count": null,
   "metadata": {},
   "outputs": [],
   "source": []
  }
 ],
 "metadata": {
  "kernelspec": {
   "display_name": "Python 3",
   "language": "python",
   "name": "python3"
  },
  "language_info": {
   "codemirror_mode": {
    "name": "ipython",
    "version": 3
   },
   "file_extension": ".py",
   "mimetype": "text/x-python",
   "name": "python",
   "nbconvert_exporter": "python",
   "pygments_lexer": "ipython3",
   "version": "3.7.6"
  }
 },
 "nbformat": 4,
 "nbformat_minor": 4
}
